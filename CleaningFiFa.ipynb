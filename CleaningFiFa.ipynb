{
 "cells": [
  {
   "cell_type": "code",
   "execution_count": 1,
   "id": "036fe1a4-e872-4dc9-bf2e-3bc72361c293",
   "metadata": {},
   "outputs": [],
   "source": [
    "import numpy as np\n",
    "import pandas as pd\n",
    "import matplotlib.pyplot as plt\n",
    "import seaborn as sns"
   ]
  },
  {
   "cell_type": "code",
   "execution_count": 2,
   "id": "2599f9ac-cb85-4166-b1f4-d46f7fb83803",
   "metadata": {},
   "outputs": [],
   "source": [
    "fifa_df = pd.read_csv(\"fifa21_raw_data.csv\",low_memory=False)"
   ]
  },
  {
   "cell_type": "code",
   "execution_count": 3,
   "id": "f20c5694-d435-405a-855f-a52273e030ff",
   "metadata": {
    "scrolled": true
   },
   "outputs": [
    {
     "name": "stdout",
     "output_type": "stream",
     "text": [
      "<class 'pandas.core.frame.DataFrame'>\n",
      "RangeIndex: 18979 entries, 0 to 18978\n",
      "Data columns (total 77 columns):\n",
      " #   Column            Non-Null Count  Dtype \n",
      "---  ------            --------------  ----- \n",
      " 0   photoUrl          18979 non-null  object\n",
      " 1   LongName          18979 non-null  object\n",
      " 2   playerUrl         18979 non-null  object\n",
      " 3   Nationality       18979 non-null  object\n",
      " 4   Positions         18979 non-null  object\n",
      " 5   Name              18979 non-null  object\n",
      " 6   Age               18979 non-null  int64 \n",
      " 7   ↓OVA              18979 non-null  int64 \n",
      " 8   POT               18979 non-null  int64 \n",
      " 9   Team & Contract   18979 non-null  object\n",
      " 10  ID                18979 non-null  int64 \n",
      " 11  Height            18979 non-null  object\n",
      " 12  Weight            18979 non-null  object\n",
      " 13  foot              18979 non-null  object\n",
      " 14  BOV               18979 non-null  int64 \n",
      " 15  BP                18979 non-null  object\n",
      " 16  Growth            18979 non-null  int64 \n",
      " 17  Joined            18979 non-null  object\n",
      " 18  Loan Date End     1013 non-null   object\n",
      " 19  Value             18979 non-null  object\n",
      " 20  Wage              18979 non-null  object\n",
      " 21  Release Clause    18979 non-null  object\n",
      " 22  Attacking         18979 non-null  int64 \n",
      " 23  Crossing          18979 non-null  int64 \n",
      " 24  Finishing         18979 non-null  int64 \n",
      " 25  Heading Accuracy  18979 non-null  int64 \n",
      " 26  Short Passing     18979 non-null  int64 \n",
      " 27  Volleys           18979 non-null  int64 \n",
      " 28  Skill             18979 non-null  int64 \n",
      " 29  Dribbling         18979 non-null  int64 \n",
      " 30  Curve             18979 non-null  int64 \n",
      " 31  FK Accuracy       18979 non-null  int64 \n",
      " 32  Long Passing      18979 non-null  int64 \n",
      " 33  Ball Control      18979 non-null  int64 \n",
      " 34  Movement          18979 non-null  int64 \n",
      " 35  Acceleration      18979 non-null  int64 \n",
      " 36  Sprint Speed      18979 non-null  int64 \n",
      " 37  Agility           18979 non-null  int64 \n",
      " 38  Reactions         18979 non-null  int64 \n",
      " 39  Balance           18979 non-null  int64 \n",
      " 40  Power             18979 non-null  int64 \n",
      " 41  Shot Power        18979 non-null  int64 \n",
      " 42  Jumping           18979 non-null  int64 \n",
      " 43  Stamina           18979 non-null  int64 \n",
      " 44  Strength          18979 non-null  int64 \n",
      " 45  Long Shots        18979 non-null  int64 \n",
      " 46  Mentality         18979 non-null  int64 \n",
      " 47  Aggression        18979 non-null  int64 \n",
      " 48  Interceptions     18979 non-null  int64 \n",
      " 49  Positioning       18979 non-null  int64 \n",
      " 50  Vision            18979 non-null  int64 \n",
      " 51  Penalties         18979 non-null  int64 \n",
      " 52  Composure         18979 non-null  int64 \n",
      " 53  Defending         18979 non-null  int64 \n",
      " 54  Marking           18979 non-null  int64 \n",
      " 55  Standing Tackle   18979 non-null  int64 \n",
      " 56  Sliding Tackle    18979 non-null  int64 \n",
      " 57  Goalkeeping       18979 non-null  int64 \n",
      " 58  GK Diving         18979 non-null  int64 \n",
      " 59  GK Handling       18979 non-null  int64 \n",
      " 60  GK Kicking        18979 non-null  int64 \n",
      " 61  GK Positioning    18979 non-null  int64 \n",
      " 62  GK Reflexes       18979 non-null  int64 \n",
      " 63  Total Stats       18979 non-null  int64 \n",
      " 64  Base Stats        18979 non-null  int64 \n",
      " 65  W/F               18979 non-null  object\n",
      " 66  SM                18979 non-null  object\n",
      " 67  A/W               18979 non-null  object\n",
      " 68  D/W               18979 non-null  object\n",
      " 69  IR                18979 non-null  object\n",
      " 70  PAC               18979 non-null  int64 \n",
      " 71  SHO               18979 non-null  int64 \n",
      " 72  PAS               18979 non-null  int64 \n",
      " 73  DRI               18979 non-null  int64 \n",
      " 74  DEF               18979 non-null  int64 \n",
      " 75  PHY               18979 non-null  int64 \n",
      " 76  Hits              18979 non-null  object\n",
      "dtypes: int64(55), object(22)\n",
      "memory usage: 11.1+ MB\n"
     ]
    }
   ],
   "source": [
    "fifa_df.info()"
   ]
  },
  {
   "cell_type": "code",
   "execution_count": 4,
   "id": "7349544d-0b5f-4684-b5bc-5da29e07a378",
   "metadata": {},
   "outputs": [],
   "source": [
    "fifa_df.drop([\"playerUrl\",\"photoUrl\"],axis=1,inplace=True)"
   ]
  },
  {
   "cell_type": "markdown",
   "id": "bf0cb2c4-217a-4223-8afd-219665f8d838",
   "metadata": {},
   "source": [
    "## Converting Height(ft) to Height(inch)"
   ]
  },
  {
   "cell_type": "code",
   "execution_count": 5,
   "id": "7be967c1-6193-4272-b1c9-b82d014787fd",
   "metadata": {},
   "outputs": [],
   "source": [
    "import re"
   ]
  },
  {
   "cell_type": "code",
   "execution_count": 6,
   "id": "25fcd823-74af-4cab-a7f1-16df70906722",
   "metadata": {},
   "outputs": [],
   "source": [
    "r = re.compile(r\"(\\d{1,2})'(\\d{1,2})\")"
   ]
  },
  {
   "cell_type": "code",
   "execution_count": 7,
   "id": "546f88b8-581b-4d93-b6d0-fb328e0cbbc8",
   "metadata": {},
   "outputs": [],
   "source": [
    "def in_inches(height):\n",
    "\n",
    "    m = r.match(height)\n",
    "    if m == None:\n",
    "        return float(\"NaN\")\n",
    "    else:\n",
    "        return int(m.group(1))*12+ float(m.group(2))"
   ]
  },
  {
   "cell_type": "code",
   "execution_count": 8,
   "id": "ab0a476e-0920-4cea-a80e-143797f9cc11",
   "metadata": {},
   "outputs": [],
   "source": [
    "fifa_df[\"Height(inch)\"] = fifa_df[\"Height\"].apply(in_inches)"
   ]
  },
  {
   "cell_type": "code",
   "execution_count": 9,
   "id": "7d407b7e-1def-4dfd-b1c4-476562fadcb4",
   "metadata": {
    "scrolled": true
   },
   "outputs": [
    {
     "data": {
      "text/html": [
       "<div>\n",
       "<style scoped>\n",
       "    .dataframe tbody tr th:only-of-type {\n",
       "        vertical-align: middle;\n",
       "    }\n",
       "\n",
       "    .dataframe tbody tr th {\n",
       "        vertical-align: top;\n",
       "    }\n",
       "\n",
       "    .dataframe thead th {\n",
       "        text-align: right;\n",
       "    }\n",
       "</style>\n",
       "<table border=\"1\" class=\"dataframe\">\n",
       "  <thead>\n",
       "    <tr style=\"text-align: right;\">\n",
       "      <th></th>\n",
       "      <th>Height</th>\n",
       "      <th>Height(inch)</th>\n",
       "    </tr>\n",
       "  </thead>\n",
       "  <tbody>\n",
       "    <tr>\n",
       "      <th>0</th>\n",
       "      <td>5'7\"</td>\n",
       "      <td>67.0</td>\n",
       "    </tr>\n",
       "    <tr>\n",
       "      <th>1</th>\n",
       "      <td>6'2\"</td>\n",
       "      <td>74.0</td>\n",
       "    </tr>\n",
       "    <tr>\n",
       "      <th>2</th>\n",
       "      <td>6'2\"</td>\n",
       "      <td>74.0</td>\n",
       "    </tr>\n",
       "    <tr>\n",
       "      <th>3</th>\n",
       "      <td>5'11\"</td>\n",
       "      <td>71.0</td>\n",
       "    </tr>\n",
       "    <tr>\n",
       "      <th>4</th>\n",
       "      <td>5'9\"</td>\n",
       "      <td>69.0</td>\n",
       "    </tr>\n",
       "  </tbody>\n",
       "</table>\n",
       "</div>"
      ],
      "text/plain": [
       "  Height  Height(inch)\n",
       "0   5'7\"          67.0\n",
       "1   6'2\"          74.0\n",
       "2   6'2\"          74.0\n",
       "3  5'11\"          71.0\n",
       "4   5'9\"          69.0"
      ]
     },
     "execution_count": 9,
     "metadata": {},
     "output_type": "execute_result"
    }
   ],
   "source": [
    "fifa_df[[\"Height\",\"Height(inch)\"]].head()"
   ]
  },
  {
   "cell_type": "markdown",
   "id": "2a5c2b3e-b4b6-4ea8-8bd9-e7a48f3d4412",
   "metadata": {},
   "source": [
    "## Converting K and M to its coresponding values"
   ]
  },
  {
   "cell_type": "code",
   "execution_count": 10,
   "id": "0d9e1df1-13cb-4e2b-ae5a-4a77954fff8f",
   "metadata": {},
   "outputs": [
    {
     "data": {
      "text/plain": [
       "0    €67.5M\n",
       "1      €46M\n",
       "2      €75M\n",
       "3      €87M\n",
       "4      €90M\n",
       "Name: Value, dtype: object"
      ]
     },
     "execution_count": 10,
     "metadata": {},
     "output_type": "execute_result"
    }
   ],
   "source": [
    "fifa_df[\"Value\"].head()"
   ]
  },
  {
   "cell_type": "code",
   "execution_count": 11,
   "id": "c566865c-d792-493d-b4a2-35407ccd1490",
   "metadata": {},
   "outputs": [],
   "source": [
    "df_value = fifa_df[\"Value\"].str.strip(\"€\").str.extract(\"(\\d+\\.?\\d*)(K|M)\").replace({'M':1000000,'K':1000})\n",
    "\n",
    "df_value[0] = pd.to_numeric(df_value[0], errors='coerce')\n",
    "\n",
    "fifa_df[\"Value\"] = df_value.prod(axis=1)"
   ]
  },
  {
   "cell_type": "code",
   "execution_count": 12,
   "id": "bc4ef79e-8e18-472d-85fd-449f3fcc6f66",
   "metadata": {},
   "outputs": [
    {
     "data": {
      "text/plain": [
       "0    67500000.0\n",
       "1    46000000.0\n",
       "2    75000000.0\n",
       "3    87000000.0\n",
       "4    90000000.0\n",
       "Name: Value, dtype: float64"
      ]
     },
     "execution_count": 12,
     "metadata": {},
     "output_type": "execute_result"
    }
   ],
   "source": [
    "fifa_df[\"Value\"].head()"
   ]
  },
  {
   "cell_type": "code",
   "execution_count": 13,
   "id": "2981a1ea-9a4c-4916-924f-aa3d281bbb99",
   "metadata": {},
   "outputs": [
    {
     "data": {
      "text/plain": [
       "0    €560K\n",
       "1    €220K\n",
       "2    €125K\n",
       "3    €370K\n",
       "4    €270K\n",
       "Name: Wage, dtype: object"
      ]
     },
     "execution_count": 13,
     "metadata": {},
     "output_type": "execute_result"
    }
   ],
   "source": [
    "fifa_df[\"Wage\"].head()"
   ]
  },
  {
   "cell_type": "code",
   "execution_count": 14,
   "id": "7e2d19fa-e09b-4108-98f8-14ee225e0fc0",
   "metadata": {},
   "outputs": [],
   "source": [
    "df_wage = fifa_df[\"Wage\"].str.strip(\"€\").str.extract(\"(\\d+\\.?\\d*)(K|M)\").replace({\"M\":1000000,\"K\":1000})\n",
    "\n",
    "df_wage[0] = pd.to_numeric(df_wage[0], errors='coerce')\n",
    "\n",
    "fifa_df[\"Wage\"] = df_wage.prod(axis=1)"
   ]
  },
  {
   "cell_type": "code",
   "execution_count": 15,
   "id": "b2e38574-7709-4110-bdae-241aed970c8e",
   "metadata": {},
   "outputs": [
    {
     "data": {
      "text/plain": [
       "0    560000.0\n",
       "1    220000.0\n",
       "2    125000.0\n",
       "3    370000.0\n",
       "4    270000.0\n",
       "Name: Wage, dtype: float64"
      ]
     },
     "execution_count": 15,
     "metadata": {},
     "output_type": "execute_result"
    }
   ],
   "source": [
    "fifa_df[\"Wage\"].head()"
   ]
  },
  {
   "cell_type": "code",
   "execution_count": 16,
   "id": "2a523be8-b70c-49d1-bd73-2287f33c715d",
   "metadata": {},
   "outputs": [
    {
     "data": {
      "text/plain": [
       "0    €138.4M\n",
       "1     €75.9M\n",
       "2    €159.4M\n",
       "3      €161M\n",
       "4    €166.5M\n",
       "Name: Release Clause, dtype: object"
      ]
     },
     "execution_count": 16,
     "metadata": {},
     "output_type": "execute_result"
    }
   ],
   "source": [
    "fifa_df[\"Release Clause\"].head()"
   ]
  },
  {
   "cell_type": "code",
   "execution_count": 17,
   "id": "9b8cb823-d97e-438f-ba03-77c1aa0cf1ab",
   "metadata": {},
   "outputs": [],
   "source": [
    "df_release = fifa_df[\"Release Clause\"].str.strip(\"€\").str.extract(\"(\\d+\\.?\\d*)(K|M)\").replace({\"M\":1000000,\"K\":1000})\n",
    "\n",
    "df_release[0] = pd.to_numeric(df_release[0], errors='coerce')\n",
    "\n",
    "fifa_df[\"Release Clause\"] = df_release.prod(axis=1)"
   ]
  },
  {
   "cell_type": "code",
   "execution_count": 18,
   "id": "d123deb8-df56-4232-9985-ff1b97f50538",
   "metadata": {},
   "outputs": [
    {
     "data": {
      "text/plain": [
       "0        138400000.0\n",
       "1         75900000.0\n",
       "2        159400000.0\n",
       "3        161000000.0\n",
       "4        166500000.0\n",
       "            ...     \n",
       "18974        57000.0\n",
       "18975       165000.0\n",
       "18976        70000.0\n",
       "18977       165000.0\n",
       "18978       167000.0\n",
       "Name: Release Clause, Length: 18979, dtype: float64"
      ]
     },
     "execution_count": 18,
     "metadata": {},
     "output_type": "execute_result"
    }
   ],
   "source": [
    "fifa_df[\"Release Clause\"]"
   ]
  },
  {
   "cell_type": "markdown",
   "id": "99c6b7bf-cfc2-4292-8b10-618b85f519aa",
   "metadata": {},
   "source": [
    "## Removing the STAR(★) characters"
   ]
  },
  {
   "cell_type": "code",
   "execution_count": 19,
   "id": "1fbf9307-19cb-4b0e-b325-f4a48891f4ae",
   "metadata": {},
   "outputs": [
    {
     "data": {
      "text/plain": [
       "0    4 ★\n",
       "1    4 ★\n",
       "2    3 ★\n",
       "3    5 ★\n",
       "4    5 ★\n",
       "Name: W/F, dtype: object"
      ]
     },
     "execution_count": 19,
     "metadata": {},
     "output_type": "execute_result"
    }
   ],
   "source": [
    "fifa_df[\"W/F\"].head()"
   ]
  },
  {
   "cell_type": "code",
   "execution_count": 20,
   "id": "148d977a-e1b0-40cc-a6a3-7c1aed33e419",
   "metadata": {},
   "outputs": [],
   "source": [
    "fifa_df[\"W/F\"] = fifa_df[\"W/F\"].apply(lambda x:x.split()[0])"
   ]
  },
  {
   "cell_type": "code",
   "execution_count": 21,
   "id": "f20e9853-e60b-4b40-aa23-7f2dfab2f9a3",
   "metadata": {},
   "outputs": [
    {
     "data": {
      "text/plain": [
       "0    4\n",
       "1    4\n",
       "2    3\n",
       "3    5\n",
       "4    5\n",
       "Name: W/F, dtype: object"
      ]
     },
     "execution_count": 21,
     "metadata": {},
     "output_type": "execute_result"
    }
   ],
   "source": [
    "fifa_df[\"W/F\"].head()"
   ]
  },
  {
   "cell_type": "code",
   "execution_count": 22,
   "id": "b22b2f62-0147-45b5-a234-72d22ab4bc41",
   "metadata": {},
   "outputs": [
    {
     "data": {
      "text/plain": [
       "0    4★\n",
       "1    5★\n",
       "2    1★\n",
       "3    4★\n",
       "4    5★\n",
       "Name: SM, dtype: object"
      ]
     },
     "execution_count": 22,
     "metadata": {},
     "output_type": "execute_result"
    }
   ],
   "source": [
    "fifa_df[\"SM\"].head()"
   ]
  },
  {
   "cell_type": "code",
   "execution_count": 23,
   "id": "ca131969-e651-4587-99e5-7af5f24cc1dc",
   "metadata": {},
   "outputs": [],
   "source": [
    "fifa_df[\"SM\"] = fifa_df[\"SM\"].str.strip(\"★\")"
   ]
  },
  {
   "cell_type": "code",
   "execution_count": 24,
   "id": "d1ae57af-fe52-4958-9cf5-4df94c8ab741",
   "metadata": {},
   "outputs": [
    {
     "data": {
      "text/plain": [
       "0    4\n",
       "1    5\n",
       "2    1\n",
       "3    4\n",
       "4    5\n",
       "Name: SM, dtype: object"
      ]
     },
     "execution_count": 24,
     "metadata": {},
     "output_type": "execute_result"
    }
   ],
   "source": [
    "fifa_df[\"SM\"].head()"
   ]
  },
  {
   "cell_type": "code",
   "execution_count": 25,
   "id": "32144f31-2840-493c-8724-5ade451a035c",
   "metadata": {},
   "outputs": [
    {
     "data": {
      "text/plain": [
       "0    5 ★\n",
       "1    5 ★\n",
       "2    3 ★\n",
       "3    4 ★\n",
       "4    5 ★\n",
       "Name: IR, dtype: object"
      ]
     },
     "execution_count": 25,
     "metadata": {},
     "output_type": "execute_result"
    }
   ],
   "source": [
    "fifa_df['IR'].head()"
   ]
  },
  {
   "cell_type": "code",
   "execution_count": 26,
   "id": "830f7228-034c-4ae4-8ae8-dcce5c29e1dd",
   "metadata": {},
   "outputs": [],
   "source": [
    "fifa_df[\"IR\"] = fifa_df[\"IR\"].apply(lambda x:x.split()[0])"
   ]
  },
  {
   "cell_type": "code",
   "execution_count": 27,
   "id": "1b83dcc4-664e-49d1-9123-622696445cf1",
   "metadata": {},
   "outputs": [
    {
     "data": {
      "text/plain": [
       "0        5\n",
       "1        5\n",
       "2        3\n",
       "3        4\n",
       "4        5\n",
       "        ..\n",
       "18974    1\n",
       "18975    1\n",
       "18976    1\n",
       "18977    1\n",
       "18978    1\n",
       "Name: IR, Length: 18979, dtype: object"
      ]
     },
     "execution_count": 27,
     "metadata": {},
     "output_type": "execute_result"
    }
   ],
   "source": [
    "fifa_df[\"IR\"]"
   ]
  },
  {
   "cell_type": "markdown",
   "id": "972686ca-4b55-47f4-97a3-f1d57b584ae1",
   "metadata": {},
   "source": [
    "## Converting Date format"
   ]
  },
  {
   "cell_type": "code",
   "execution_count": 28,
   "id": "8cd7993b-999c-40ae-8b98-ac19091f67f3",
   "metadata": {},
   "outputs": [
    {
     "data": {
      "text/plain": [
       "0         Jul 1, 2004\n",
       "1        Jul 10, 2018\n",
       "2        Jul 16, 2014\n",
       "3        Aug 30, 2015\n",
       "4         Aug 3, 2017\n",
       "             ...     \n",
       "18974     Aug 1, 2020\n",
       "18975     Aug 1, 2020\n",
       "18976    Jul 13, 2018\n",
       "18977     Aug 1, 2020\n",
       "18978     Jan 1, 2020\n",
       "Name: Joined, Length: 18979, dtype: object"
      ]
     },
     "execution_count": 28,
     "metadata": {},
     "output_type": "execute_result"
    }
   ],
   "source": [
    "fifa_df[\"Joined\"]"
   ]
  },
  {
   "cell_type": "code",
   "execution_count": 29,
   "id": "23e5e348-d865-4ad5-aceb-39a732dc4c41",
   "metadata": {},
   "outputs": [],
   "source": [
    "fifa_df[\"Joined\"] = pd.to_datetime(fifa_df[\"Joined\"],format=\"mixed\")"
   ]
  },
  {
   "cell_type": "code",
   "execution_count": 30,
   "id": "fe73307c-cfe0-4362-b4f4-630968b28d98",
   "metadata": {},
   "outputs": [
    {
     "data": {
      "text/plain": [
       "0   2004-07-01\n",
       "1   2018-07-10\n",
       "2   2014-07-16\n",
       "3   2015-08-30\n",
       "4   2017-08-03\n",
       "Name: Joined, dtype: datetime64[ns]"
      ]
     },
     "execution_count": 30,
     "metadata": {},
     "output_type": "execute_result"
    }
   ],
   "source": [
    "fifa_df[\"Joined\"].head()"
   ]
  },
  {
   "cell_type": "code",
   "execution_count": 31,
   "id": "009da1b7-7c6e-4f75-8df6-d8496b6fef5e",
   "metadata": {},
   "outputs": [
    {
     "data": {
      "text/plain": [
       "17966"
      ]
     },
     "execution_count": 31,
     "metadata": {},
     "output_type": "execute_result"
    }
   ],
   "source": [
    "fifa_df[\"Loan Date End\"].isnull().sum()   # Checking Null/NaN "
   ]
  },
  {
   "cell_type": "code",
   "execution_count": 32,
   "id": "6e246d94-14ed-47c1-bdcd-81097c96fd59",
   "metadata": {},
   "outputs": [
    {
     "data": {
      "text/plain": [
       "205      Jun 30, 2021\n",
       "250      Jun 30, 2021\n",
       "257      Jun 30, 2021\n",
       "299      Jun 30, 2021\n",
       "305      Jun 30, 2021\n",
       "             ...     \n",
       "18497    Aug 31, 2021\n",
       "18569    Dec 31, 2020\n",
       "18580    Jun 30, 2021\n",
       "18638    Dec 31, 2020\n",
       "18696    Dec 31, 2020\n",
       "Name: Loan Date End, Length: 1013, dtype: object"
      ]
     },
     "execution_count": 32,
     "metadata": {},
     "output_type": "execute_result"
    }
   ],
   "source": [
    "fifa_df[~fifa_df[\"Loan Date End\"].isnull()][\"Loan Date End\"]"
   ]
  },
  {
   "cell_type": "code",
   "execution_count": 33,
   "id": "217414db-6ec0-4787-b960-ff088904b1c9",
   "metadata": {},
   "outputs": [],
   "source": [
    "fifa_df[\"Loan Date End\"] = pd.to_datetime(fifa_df[\"Loan Date End\"],format=\"mixed\")"
   ]
  },
  {
   "cell_type": "code",
   "execution_count": 34,
   "id": "1b763c6c-fab4-4586-9c6c-50b6ba96d6d9",
   "metadata": {},
   "outputs": [
    {
     "data": {
      "text/plain": [
       "205     2021-06-30\n",
       "250     2021-06-30\n",
       "257     2021-06-30\n",
       "299     2021-06-30\n",
       "305     2021-06-30\n",
       "           ...    \n",
       "18497   2021-08-31\n",
       "18569   2020-12-31\n",
       "18580   2021-06-30\n",
       "18638   2020-12-31\n",
       "18696   2020-12-31\n",
       "Name: Loan Date End, Length: 1013, dtype: datetime64[ns]"
      ]
     },
     "execution_count": 34,
     "metadata": {},
     "output_type": "execute_result"
    }
   ],
   "source": [
    "fifa_df[~fifa_df[\"Loan Date End\"].isnull()][\"Loan Date End\"]"
   ]
  },
  {
   "cell_type": "markdown",
   "id": "15b338e0-fe0f-4845-ac4c-0a871b12052e",
   "metadata": {},
   "source": [
    "## Removing new line characters (\\n)"
   ]
  },
  {
   "cell_type": "code",
   "execution_count": 35,
   "id": "b6fb277d-3696-48e3-88ff-ea3171fe6ba5",
   "metadata": {},
   "outputs": [
    {
     "data": {
      "text/html": [
       "<div>\n",
       "<style scoped>\n",
       "    .dataframe tbody tr th:only-of-type {\n",
       "        vertical-align: middle;\n",
       "    }\n",
       "\n",
       "    .dataframe tbody tr th {\n",
       "        vertical-align: top;\n",
       "    }\n",
       "\n",
       "    .dataframe thead th {\n",
       "        text-align: right;\n",
       "    }\n",
       "</style>\n",
       "<table border=\"1\" class=\"dataframe\">\n",
       "  <thead>\n",
       "    <tr style=\"text-align: right;\">\n",
       "      <th></th>\n",
       "      <th>Team &amp; Contract</th>\n",
       "      <th>Hits</th>\n",
       "    </tr>\n",
       "  </thead>\n",
       "  <tbody>\n",
       "    <tr>\n",
       "      <th>0</th>\n",
       "      <td>\\n\\n\\n\\nFC Barcelona\\n2004 ~ 2021\\n\\n</td>\n",
       "      <td>\\n372</td>\n",
       "    </tr>\n",
       "    <tr>\n",
       "      <th>1</th>\n",
       "      <td>\\n\\n\\n\\nJuventus\\n2018 ~ 2022\\n\\n</td>\n",
       "      <td>\\n344</td>\n",
       "    </tr>\n",
       "    <tr>\n",
       "      <th>2</th>\n",
       "      <td>\\n\\n\\n\\nAtlético Madrid\\n2014 ~ 2023\\n\\n</td>\n",
       "      <td>\\n86</td>\n",
       "    </tr>\n",
       "    <tr>\n",
       "      <th>3</th>\n",
       "      <td>\\n\\n\\n\\nManchester City\\n2015 ~ 2023\\n\\n</td>\n",
       "      <td>\\n163</td>\n",
       "    </tr>\n",
       "    <tr>\n",
       "      <th>4</th>\n",
       "      <td>\\n\\n\\n\\nParis Saint-Germain\\n2017 ~ 2022\\n\\n</td>\n",
       "      <td>\\n273</td>\n",
       "    </tr>\n",
       "  </tbody>\n",
       "</table>\n",
       "</div>"
      ],
      "text/plain": [
       "                                Team & Contract   Hits\n",
       "0         \\n\\n\\n\\nFC Barcelona\\n2004 ~ 2021\\n\\n  \\n372\n",
       "1             \\n\\n\\n\\nJuventus\\n2018 ~ 2022\\n\\n  \\n344\n",
       "2      \\n\\n\\n\\nAtlético Madrid\\n2014 ~ 2023\\n\\n   \\n86\n",
       "3      \\n\\n\\n\\nManchester City\\n2015 ~ 2023\\n\\n  \\n163\n",
       "4  \\n\\n\\n\\nParis Saint-Germain\\n2017 ~ 2022\\n\\n  \\n273"
      ]
     },
     "execution_count": 35,
     "metadata": {},
     "output_type": "execute_result"
    }
   ],
   "source": [
    "fifa_df[[\"Team & Contract\", \"Hits\"]].head()"
   ]
  },
  {
   "cell_type": "code",
   "execution_count": 36,
   "id": "a0397b0e-8f93-48f2-84af-795ca70f16e1",
   "metadata": {},
   "outputs": [],
   "source": [
    "fifa_df[\"Team & Contract\"] = fifa_df[\"Team & Contract\"].apply(lambda x:x.strip(\"\\n\"))\n",
    "\n",
    "fifa_df[\"Team & Contract\"] = fifa_df[\"Team & Contract\"].apply(lambda x:\" \".join(x.split(\"\\n\")))"
   ]
  },
  {
   "cell_type": "code",
   "execution_count": 37,
   "id": "c67f5548-d132-4494-8b32-d12a1c46a24d",
   "metadata": {},
   "outputs": [
    {
     "data": {
      "text/plain": [
       "0           FC Barcelona 2004 ~ 2021\n",
       "1               Juventus 2018 ~ 2022\n",
       "2        Atlético Madrid 2014 ~ 2023\n",
       "3        Manchester City 2015 ~ 2023\n",
       "4    Paris Saint-Germain 2017 ~ 2022\n",
       "Name: Team & Contract, dtype: object"
      ]
     },
     "execution_count": 37,
     "metadata": {},
     "output_type": "execute_result"
    }
   ],
   "source": [
    "fifa_df[\"Team & Contract\"].head()"
   ]
  },
  {
   "cell_type": "markdown",
   "id": "f8232fae-ada6-43e0-90e7-64fd8558d015",
   "metadata": {},
   "source": [
    " "
   ]
  },
  {
   "cell_type": "code",
   "execution_count": 38,
   "id": "945dcbdf-ba95-4907-ae62-d7633cf3a9a8",
   "metadata": {},
   "outputs": [],
   "source": [
    "fifa_df[\"Hits\"] = fifa_df[\"Hits\"].str.strip(\"\\n\")"
   ]
  },
  {
   "cell_type": "code",
   "execution_count": 39,
   "id": "a25b9df0-7ab2-4580-ae56-2d4c8baad4bd",
   "metadata": {},
   "outputs": [
    {
     "data": {
      "text/plain": [
       "0    372\n",
       "1    344\n",
       "2     86\n",
       "3    163\n",
       "4    273\n",
       "Name: Hits, dtype: object"
      ]
     },
     "execution_count": 39,
     "metadata": {},
     "output_type": "execute_result"
    }
   ],
   "source": [
    "fifa_df[\"Hits\"].head()"
   ]
  },
  {
   "cell_type": "code",
   "execution_count": 40,
   "id": "d055ecf3-0811-45a1-a502-8a6926b24c5e",
   "metadata": {},
   "outputs": [
    {
     "data": {
      "text/html": [
       "<div>\n",
       "<style scoped>\n",
       "    .dataframe tbody tr th:only-of-type {\n",
       "        vertical-align: middle;\n",
       "    }\n",
       "\n",
       "    .dataframe tbody tr th {\n",
       "        vertical-align: top;\n",
       "    }\n",
       "\n",
       "    .dataframe thead th {\n",
       "        text-align: right;\n",
       "    }\n",
       "</style>\n",
       "<table border=\"1\" class=\"dataframe\">\n",
       "  <thead>\n",
       "    <tr style=\"text-align: right;\">\n",
       "      <th></th>\n",
       "      <th>Team &amp; Contract</th>\n",
       "      <th>Hits</th>\n",
       "    </tr>\n",
       "  </thead>\n",
       "  <tbody>\n",
       "    <tr>\n",
       "      <th>0</th>\n",
       "      <td>FC Barcelona 2004 ~ 2021</td>\n",
       "      <td>372</td>\n",
       "    </tr>\n",
       "    <tr>\n",
       "      <th>1</th>\n",
       "      <td>Juventus 2018 ~ 2022</td>\n",
       "      <td>344</td>\n",
       "    </tr>\n",
       "    <tr>\n",
       "      <th>2</th>\n",
       "      <td>Atlético Madrid 2014 ~ 2023</td>\n",
       "      <td>86</td>\n",
       "    </tr>\n",
       "    <tr>\n",
       "      <th>3</th>\n",
       "      <td>Manchester City 2015 ~ 2023</td>\n",
       "      <td>163</td>\n",
       "    </tr>\n",
       "    <tr>\n",
       "      <th>4</th>\n",
       "      <td>Paris Saint-Germain 2017 ~ 2022</td>\n",
       "      <td>273</td>\n",
       "    </tr>\n",
       "  </tbody>\n",
       "</table>\n",
       "</div>"
      ],
      "text/plain": [
       "                   Team & Contract Hits\n",
       "0         FC Barcelona 2004 ~ 2021  372\n",
       "1             Juventus 2018 ~ 2022  344\n",
       "2      Atlético Madrid 2014 ~ 2023   86\n",
       "3      Manchester City 2015 ~ 2023  163\n",
       "4  Paris Saint-Germain 2017 ~ 2022  273"
      ]
     },
     "execution_count": 40,
     "metadata": {},
     "output_type": "execute_result"
    }
   ],
   "source": [
    "fifa_df[[\"Team & Contract\", \"Hits\"]].head()"
   ]
  },
  {
   "cell_type": "markdown",
   "id": "77fbea48-0525-4f61-868b-7edeb952355f",
   "metadata": {},
   "source": [
    "## Splitting into seperate Team and Contract"
   ]
  },
  {
   "cell_type": "code",
   "execution_count": 41,
   "id": "be615439-2395-4004-af31-c98c0852aea5",
   "metadata": {},
   "outputs": [],
   "source": [
    "import re"
   ]
  },
  {
   "cell_type": "code",
   "execution_count": 42,
   "id": "ddefa5fa-b6a3-48a5-b013-f5d680be1f3c",
   "metadata": {},
   "outputs": [
    {
     "data": {
      "text/plain": [
       "0                               FC Barcelona 2004 ~ 2021\n",
       "1                                   Juventus 2018 ~ 2022\n",
       "2                            Atlético Madrid 2014 ~ 2023\n",
       "3                            Manchester City 2015 ~ 2023\n",
       "4                        Paris Saint-Germain 2017 ~ 2022\n",
       "                              ...                       \n",
       "18974    Chongqing Dangdai Lifan FC SWM Team 2020 ~ 2020\n",
       "18975                        Oldham Athletic 2020 ~ 2021\n",
       "18976                             Wuhan Zall 2018 ~ 2022\n",
       "18977                        Oldham Athletic 2020 ~ 2021\n",
       "18978                           Club Bolívar 2020 ~ 2024\n",
       "Name: Team & Contract, Length: 18979, dtype: object"
      ]
     },
     "execution_count": 42,
     "metadata": {},
     "output_type": "execute_result"
    }
   ],
   "source": [
    "fifa_df[\"Team & Contract\"]"
   ]
  },
  {
   "cell_type": "code",
   "execution_count": 43,
   "id": "d46cd001-0d06-4c11-b911-2783a74c9054",
   "metadata": {},
   "outputs": [],
   "source": [
    "def sep_team(team):\n",
    "\n",
    "    m = re.findall(r\"\\D+\",team)\n",
    "    return(m[0])"
   ]
  },
  {
   "cell_type": "code",
   "execution_count": 44,
   "id": "3eb493bc-f820-4fd0-ab8e-6a1c34125598",
   "metadata": {},
   "outputs": [],
   "source": [
    "fifa_df[\"Team\"] = fifa_df[\"Team & Contract\"].apply(sep_team)"
   ]
  },
  {
   "cell_type": "code",
   "execution_count": 45,
   "id": "5a909eb2-1cc3-41ff-98f5-f962d6439be6",
   "metadata": {},
   "outputs": [],
   "source": [
    "fifa_df[\"Team\"] = fifa_df[\"Team\"].str.rstrip()    # To remove empty space at every end"
   ]
  },
  {
   "cell_type": "code",
   "execution_count": 46,
   "id": "9fadb949-bc68-4d92-b4db-b99232cd9662",
   "metadata": {},
   "outputs": [
    {
     "data": {
      "text/plain": [
       "0           FC Barcelona\n",
       "1               Juventus\n",
       "2        Atlético Madrid\n",
       "3        Manchester City\n",
       "4    Paris Saint-Germain\n",
       "Name: Team, dtype: object"
      ]
     },
     "execution_count": 46,
     "metadata": {},
     "output_type": "execute_result"
    }
   ],
   "source": [
    "fifa_df[\"Team\"].head()"
   ]
  },
  {
   "cell_type": "code",
   "execution_count": 47,
   "id": "1c1cd9e9-6630-459c-9a6f-9dac9fb9a825",
   "metadata": {},
   "outputs": [],
   "source": [
    "def sep_contract(contract):\n",
    "\n",
    "    p = re.findall(r\"\\d+\",contract)\n",
    "    return(\" - \".join(p))"
   ]
  },
  {
   "cell_type": "code",
   "execution_count": 48,
   "id": "eaf4f106-a057-4af8-8d9d-0621a19acaa1",
   "metadata": {},
   "outputs": [],
   "source": [
    "fifa_df[\"Contract\"] = fifa_df[\"Team & Contract\"].apply(sep_contract)"
   ]
  },
  {
   "cell_type": "code",
   "execution_count": 49,
   "id": "b2da8ad3-1905-4d0c-8e21-cbec1bfeea63",
   "metadata": {},
   "outputs": [
    {
     "data": {
      "text/plain": [
       "0    2004 - 2021\n",
       "1    2018 - 2022\n",
       "2    2014 - 2023\n",
       "3    2015 - 2023\n",
       "4    2017 - 2022\n",
       "Name: Contract, dtype: object"
      ]
     },
     "execution_count": 49,
     "metadata": {},
     "output_type": "execute_result"
    }
   ],
   "source": [
    "fifa_df[\"Contract\"].head()"
   ]
  },
  {
   "cell_type": "code",
   "execution_count": 50,
   "id": "8218bb28-6a76-4adf-9df2-1006d739ab0a",
   "metadata": {},
   "outputs": [
    {
     "data": {
      "text/html": [
       "<div>\n",
       "<style scoped>\n",
       "    .dataframe tbody tr th:only-of-type {\n",
       "        vertical-align: middle;\n",
       "    }\n",
       "\n",
       "    .dataframe tbody tr th {\n",
       "        vertical-align: top;\n",
       "    }\n",
       "\n",
       "    .dataframe thead th {\n",
       "        text-align: right;\n",
       "    }\n",
       "</style>\n",
       "<table border=\"1\" class=\"dataframe\">\n",
       "  <thead>\n",
       "    <tr style=\"text-align: right;\">\n",
       "      <th></th>\n",
       "      <th>LongName</th>\n",
       "      <th>Nationality</th>\n",
       "      <th>Positions</th>\n",
       "      <th>Name</th>\n",
       "      <th>Age</th>\n",
       "      <th>↓OVA</th>\n",
       "      <th>POT</th>\n",
       "      <th>Team &amp; Contract</th>\n",
       "      <th>ID</th>\n",
       "      <th>Height</th>\n",
       "      <th>...</th>\n",
       "      <th>PAC</th>\n",
       "      <th>SHO</th>\n",
       "      <th>PAS</th>\n",
       "      <th>DRI</th>\n",
       "      <th>DEF</th>\n",
       "      <th>PHY</th>\n",
       "      <th>Hits</th>\n",
       "      <th>Height(inch)</th>\n",
       "      <th>Team</th>\n",
       "      <th>Contract</th>\n",
       "    </tr>\n",
       "  </thead>\n",
       "  <tbody>\n",
       "    <tr>\n",
       "      <th>0</th>\n",
       "      <td>Lionel Messi</td>\n",
       "      <td>Argentina</td>\n",
       "      <td>RW ST CF</td>\n",
       "      <td>L. Messi</td>\n",
       "      <td>33</td>\n",
       "      <td>93</td>\n",
       "      <td>93</td>\n",
       "      <td>FC Barcelona 2004 ~ 2021</td>\n",
       "      <td>158023</td>\n",
       "      <td>5'7\"</td>\n",
       "      <td>...</td>\n",
       "      <td>85</td>\n",
       "      <td>92</td>\n",
       "      <td>91</td>\n",
       "      <td>95</td>\n",
       "      <td>38</td>\n",
       "      <td>65</td>\n",
       "      <td>372</td>\n",
       "      <td>67.0</td>\n",
       "      <td>FC Barcelona</td>\n",
       "      <td>2004 - 2021</td>\n",
       "    </tr>\n",
       "    <tr>\n",
       "      <th>1</th>\n",
       "      <td>C. Ronaldo dos Santos Aveiro</td>\n",
       "      <td>Portugal</td>\n",
       "      <td>ST LW</td>\n",
       "      <td>Cristiano Ronaldo</td>\n",
       "      <td>35</td>\n",
       "      <td>92</td>\n",
       "      <td>92</td>\n",
       "      <td>Juventus 2018 ~ 2022</td>\n",
       "      <td>20801</td>\n",
       "      <td>6'2\"</td>\n",
       "      <td>...</td>\n",
       "      <td>89</td>\n",
       "      <td>93</td>\n",
       "      <td>81</td>\n",
       "      <td>89</td>\n",
       "      <td>35</td>\n",
       "      <td>77</td>\n",
       "      <td>344</td>\n",
       "      <td>74.0</td>\n",
       "      <td>Juventus</td>\n",
       "      <td>2018 - 2022</td>\n",
       "    </tr>\n",
       "    <tr>\n",
       "      <th>2</th>\n",
       "      <td>Jan Oblak</td>\n",
       "      <td>Slovenia</td>\n",
       "      <td>GK</td>\n",
       "      <td>J. Oblak</td>\n",
       "      <td>27</td>\n",
       "      <td>91</td>\n",
       "      <td>93</td>\n",
       "      <td>Atlético Madrid 2014 ~ 2023</td>\n",
       "      <td>200389</td>\n",
       "      <td>6'2\"</td>\n",
       "      <td>...</td>\n",
       "      <td>87</td>\n",
       "      <td>92</td>\n",
       "      <td>78</td>\n",
       "      <td>90</td>\n",
       "      <td>52</td>\n",
       "      <td>90</td>\n",
       "      <td>86</td>\n",
       "      <td>74.0</td>\n",
       "      <td>Atlético Madrid</td>\n",
       "      <td>2014 - 2023</td>\n",
       "    </tr>\n",
       "    <tr>\n",
       "      <th>3</th>\n",
       "      <td>Kevin De Bruyne</td>\n",
       "      <td>Belgium</td>\n",
       "      <td>CAM CM</td>\n",
       "      <td>K. De Bruyne</td>\n",
       "      <td>29</td>\n",
       "      <td>91</td>\n",
       "      <td>91</td>\n",
       "      <td>Manchester City 2015 ~ 2023</td>\n",
       "      <td>192985</td>\n",
       "      <td>5'11\"</td>\n",
       "      <td>...</td>\n",
       "      <td>76</td>\n",
       "      <td>86</td>\n",
       "      <td>93</td>\n",
       "      <td>88</td>\n",
       "      <td>64</td>\n",
       "      <td>78</td>\n",
       "      <td>163</td>\n",
       "      <td>71.0</td>\n",
       "      <td>Manchester City</td>\n",
       "      <td>2015 - 2023</td>\n",
       "    </tr>\n",
       "    <tr>\n",
       "      <th>4</th>\n",
       "      <td>Neymar da Silva Santos Jr.</td>\n",
       "      <td>Brazil</td>\n",
       "      <td>LW CAM</td>\n",
       "      <td>Neymar Jr</td>\n",
       "      <td>28</td>\n",
       "      <td>91</td>\n",
       "      <td>91</td>\n",
       "      <td>Paris Saint-Germain 2017 ~ 2022</td>\n",
       "      <td>190871</td>\n",
       "      <td>5'9\"</td>\n",
       "      <td>...</td>\n",
       "      <td>91</td>\n",
       "      <td>85</td>\n",
       "      <td>86</td>\n",
       "      <td>94</td>\n",
       "      <td>36</td>\n",
       "      <td>59</td>\n",
       "      <td>273</td>\n",
       "      <td>69.0</td>\n",
       "      <td>Paris Saint-Germain</td>\n",
       "      <td>2017 - 2022</td>\n",
       "    </tr>\n",
       "  </tbody>\n",
       "</table>\n",
       "<p>5 rows × 78 columns</p>\n",
       "</div>"
      ],
      "text/plain": [
       "                       LongName Nationality Positions               Name  Age  \\\n",
       "0                  Lionel Messi   Argentina  RW ST CF           L. Messi   33   \n",
       "1  C. Ronaldo dos Santos Aveiro    Portugal     ST LW  Cristiano Ronaldo   35   \n",
       "2                     Jan Oblak    Slovenia        GK           J. Oblak   27   \n",
       "3               Kevin De Bruyne     Belgium    CAM CM       K. De Bruyne   29   \n",
       "4    Neymar da Silva Santos Jr.      Brazil    LW CAM          Neymar Jr   28   \n",
       "\n",
       "   ↓OVA  POT                  Team & Contract      ID Height  ... PAC SHO  \\\n",
       "0    93   93         FC Barcelona 2004 ~ 2021  158023   5'7\"  ...  85  92   \n",
       "1    92   92             Juventus 2018 ~ 2022   20801   6'2\"  ...  89  93   \n",
       "2    91   93      Atlético Madrid 2014 ~ 2023  200389   6'2\"  ...  87  92   \n",
       "3    91   91      Manchester City 2015 ~ 2023  192985  5'11\"  ...  76  86   \n",
       "4    91   91  Paris Saint-Germain 2017 ~ 2022  190871   5'9\"  ...  91  85   \n",
       "\n",
       "   PAS DRI  DEF PHY Hits  Height(inch)                 Team     Contract  \n",
       "0   91  95   38  65  372          67.0         FC Barcelona  2004 - 2021  \n",
       "1   81  89   35  77  344          74.0             Juventus  2018 - 2022  \n",
       "2   78  90   52  90   86          74.0      Atlético Madrid  2014 - 2023  \n",
       "3   93  88   64  78  163          71.0      Manchester City  2015 - 2023  \n",
       "4   86  94   36  59  273          69.0  Paris Saint-Germain  2017 - 2022  \n",
       "\n",
       "[5 rows x 78 columns]"
      ]
     },
     "execution_count": 50,
     "metadata": {},
     "output_type": "execute_result"
    }
   ],
   "source": [
    "fifa_df.head()"
   ]
  },
  {
   "cell_type": "code",
   "execution_count": 51,
   "id": "c7a604db-9318-4667-a21b-9c40dfdf5043",
   "metadata": {},
   "outputs": [],
   "source": [
    "fifa_df.to_csv(\"Cleaned_Fifa.csv\")"
   ]
  }
 ],
 "metadata": {
  "kernelspec": {
   "display_name": "Python 3 (ipykernel)",
   "language": "python",
   "name": "python3"
  },
  "language_info": {
   "codemirror_mode": {
    "name": "ipython",
    "version": 3
   },
   "file_extension": ".py",
   "mimetype": "text/x-python",
   "name": "python",
   "nbconvert_exporter": "python",
   "pygments_lexer": "ipython3",
   "version": "3.11.7"
  }
 },
 "nbformat": 4,
 "nbformat_minor": 5
}
